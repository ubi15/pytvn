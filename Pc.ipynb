{
 "cells": [
  {
   "cell_type": "code",
   "execution_count": 1,
   "metadata": {
    "collapsed": false
   },
   "outputs": [
    {
     "name": "stdout",
     "output_type": "stream",
     "text": [
      "Populating the interactive namespace from numpy and matplotlib\n"
     ]
    }
   ],
   "source": [
    "%pylab inline\n",
    "%matplotlib inline"
   ]
  },
  {
   "cell_type": "code",
   "execution_count": 2,
   "metadata": {
    "collapsed": false
   },
   "outputs": [],
   "source": [
    "import matplotlib.pyplot as plt\n",
    "import numpy as np\n",
    "import os, gzip, cPickle, sys\n",
    "\n",
    "#############################################\n",
    "# Drawing function...\n",
    "#############################################\n",
    "def fancy_box(bp):\n",
    "    ## change outline color, fill color and linewidth of the boxes\n",
    "    for box in bp['boxes']:\n",
    "        # change outline color\n",
    "        box.set( color='#068C7F', linewidth=4, alpha=.9)\n",
    "        # change fill color\n",
    "        box.set( facecolor = '#8cbbea', alpha=.9)\n",
    "\n",
    "    ## change color and linewidth of the whiskers\n",
    "    for whisker in bp['whiskers']:\n",
    "        whisker.set(color='#068c7f', linewidth=3)\n",
    "\n",
    "    ## change color and linewidth of the caps\n",
    "    for cap in bp['caps']:\n",
    "        cap.set(color='#068C7F', linewidth=3)\n",
    "\n",
    "    ## change color and linewidth of the medians\n",
    "    for median in bp['medians']:\n",
    "        median.set(color='#206584', linewidth=4)\n",
    "\n",
    "    ## change color and linewidth of the means\n",
    "    for median in bp['means']:\n",
    "        median.set(color='#000000', linewidth=4, alpha=.8)\n",
    "\n",
    "    ## change the style of fliers and their fill\n",
    "    for flier in bp['fliers']:\n",
    "        flier.set(marker='o', color='#39d5f1', alpha=0.8)\n",
    "\n",
    "#############################################\n",
    "\n",
    "\n",
    "from matplotlib import rc\n",
    "rc('font', family = 'serif', serif = 'Times')\n",
    "rc('text', usetex = True)\n",
    "\n",
    "import seaborn as sns\n",
    "sns.set_style(\"white\", {'grid.color': '.0', 'grid.linestyle': '',\\\n",
    "                            'axes.grid': True,\\\n",
    "                            'xtick.direction': 'in',\\\n",
    "                            'xtick.major.size': 10,\\\n",
    "                            'xtick.minor.size': 10,\\\n",
    "                            'ytick.direction': 'in',\\\n",
    "                            'ytick.major.size': 10,\\\n",
    "                            'ytick.minor.size': 10,\\\n",
    "                            'xtick.label.size': 30})\n",
    "\n",
    "from matplotlib import rc\n",
    "rc('font', family = 'serif', serif = 'Times')\n",
    "rc('text', usetex = True)\n"
   ]
  },
  {
   "cell_type": "code",
   "execution_count": 3,
   "metadata": {
    "collapsed": false
   },
   "outputs": [
    {
     "data": {
      "image/png": "[encoded data removed]",
      "text/plain": [
       "<matplotlib.figure.Figure at 0x7f9fb622b150>"
      ]
     },
     "metadata": {},
     "output_type": "display_data"
    }
   ],
   "source": [
    "RootF = '/home/ubi/DATA_PhD/TVN-ST/py/out/Calcolo/Auto_bins/'\n",
    "\n",
    "AVG_C = {}\n",
    "Bins = {}\n",
    "Freq = {}\n",
    "\n",
    "plt.figure(figsize=(4.1,3.3))\n",
    "\n",
    "\n",
    "colors=['#206584', '#BF2D19', '#068C7F']\n",
    "\n",
    "Diz={'TWT':'TMN','MPC':'MPN',\\\n",
    "     'PRA':'PRA','PRB':'PRB','PRC':'PRC','PRD':'PRD','PRE':'PRE','PRL':'PRL'}\n",
    "DATA = {}\n",
    "cind=0\n",
    "for ii, dn in enumerate(sorted(os.listdir(RootF))):\n",
    "    \n",
    "    DATA.setdefault(dn, {})\n",
    "    \n",
    "    fn = os.path.join(os.path.join(RootF,dn), '00/chi_square/P_c.dat')\n",
    "    f=gzip.open(fn)\n",
    "    DATA[dn]['Bins'] = cPickle.load(f)\n",
    "    DATA[dn]['Freq'] = cPickle.load(f)\n",
    "    DATA[dn]['AvgC'] = cPickle.load(f)\n",
    "    try:\n",
    "        junk = cPickle.load(f)\n",
    "        DATA[dn]['CSTs'] = cPickle.load(f)\n",
    "        DATA[dn]['POPs'] = cPickle.load(f)\n",
    "    except:\n",
    "        print 'Error in dir ', dn\n",
    "    f.close()\n",
    "    \n",
    "    if dn in ['TWT','MPC'] and os.path.isdir(os.path.join(RootF,dn)):\n",
    "        \n",
    "        Bins[dn] = DATA[dn]['Bins']\n",
    "        Freq[dn] = DATA[dn]['Freq']\n",
    "        AVG_C[dn]= DATA[dn]['AvgC']\n",
    "        \n",
    "        cind += 1\n",
    "        plt.plot(Bins[dn], Freq[dn]/Freq[dn].max(), '-',\\\n",
    "                 label=r'%s, $\\langle c\\rangle = %.01f$'%(Diz[dn],AVG_C[dn]),\\\n",
    "                 c=colors[cind%len(colors)], lw=3, alpha=.75)\n",
    "        #plt.plot([AVG_C[dn]]*2, [.99,1.01], '-', lw=5,\\\n",
    "        #         c=colors[ii%len(colors)], alpha=.8)\n",
    "\n",
    "plt.legend(loc=1, fontsize=15, handlelength=1.)\n",
    "plt.xlim(0,30)\n",
    "plt.ylim(0,1.2)\n",
    "\n",
    "plt.xticks(size=18)\n",
    "plt.yticks(size=18)\n",
    "\n",
    "plt.xlabel(r'$c$', size=22)\n",
    "plt.ylabel(r'$P(c)$', size=22)\n",
    "        \n",
    "plt.tight_layout()\n",
    "plt.savefig('Pc.pdf', bbox_inches='tight')"
   ]
  },
  {
   "cell_type": "code",
   "execution_count": 4,
   "metadata": {
    "collapsed": false
   },
   "outputs": [],
   "source": [
    "plt.close()"
   ]
  },
  {
   "cell_type": "code",
   "execution_count": 7,
   "metadata": {
    "collapsed": false
   },
   "outputs": [
    {
     "name": "stdout",
     "output_type": "stream",
     "text": [
      "MPC 4.62141414257\n",
      "PRA 1.54375208768\n",
      "PRB 0.789367983277\n",
      "PRD 2.30024186847\n",
      "PRE 2.4071722357\n",
      "PRL 1.60206264236\n",
      "TWT 1.70890529925\n"
     ]
    },
    {
     "data": {
      "image/png": "[encoded data removed]",
      "text/plain": [
       "<matplotlib.figure.Figure at 0x7f9fb5d27c50>"
      ]
     },
     "metadata": {},
     "output_type": "display_data"
    }
   ],
   "source": [
    "mybox = plt.figure(figsize=(9,6))\n",
    "boxax = mybox.add_subplot(1,1,1)\n",
    "\n",
    "NREP = 100000\n",
    "\n",
    "Consts_Box = np.zeros((NREP, len(DATA.keys())))\n",
    "Labels = []\n",
    "for ii, k in enumerate(sorted(DATA.keys())):\n",
    "    v = DATA[k]\n",
    "    NPOP = float(v['POPs'].sum())\n",
    "    C_s = [[v['CSTs'][i]]*np.ceil(NREP*v['POPs'][i]/NPOP)\\\n",
    "           for i in range(len(v['POPs']))]\n",
    "    C_s = [it for subl in C_s for it in subl]\n",
    "    \n",
    "    C_s = C_s[:NREP]\n",
    "    \n",
    "    Consts_Box[:, ii] = np.asarray(C_s)\n",
    "    print k, np.mean(C_s)\n",
    "    Labels.append(Diz[k])#+'\\n'+r'$%.02f$' % v['AvgC'])\n",
    "    \n",
    "bp = sns.boxplot(Consts_Box, names=Labels, showfliers=False, showmeans=True, meanline=True,\\\n",
    "    meanprops={'color': 'k', 'linestyle':'--', 'alpha': .5, 'lw': 1.75})\n",
    "\n",
    "#fancy_box(boxax)\n",
    "\n",
    "plt.xticks(size=25)\n",
    "plt.yticks(size=25)\n",
    "plt.ylabel(r'$C$', size=30)\n",
    "\n",
    "\n",
    "ytop = plt.gca().get_ylim()[1]\n",
    "plt.ylim(-.01, ytop+1.)\n",
    "plt.tight_layout()\n",
    "plt.savefig('Pc_BOX.pdf', bbox_inches='tight')"
   ]
  },
  {
   "cell_type": "code",
   "execution_count": 11,
   "metadata": {
    "collapsed": false
   },
   "outputs": [
    {
     "name": "stdout",
     "output_type": "stream",
     "text": [
      "1.35778276037\n"
     ]
    },
    {
     "data": {
      "image/png": "[encoded data removed]",
      "text/plain": [
       "<matplotlib.figure.Figure at 0x7f9fb52f7a90>"
      ]
     },
     "metadata": {},
     "output_type": "display_data"
    }
   ],
   "source": [
    "plt.close()\n",
    "\n",
    "sns = reload(sns)\n",
    "sns.set_style(\"white\", {'grid.color': '.0', 'grid.linestyle': '',\\\n",
    "                            'axes.grid': True,\\\n",
    "                            'xtick.direction': 'in',\\\n",
    "                            'xtick.major.size': 10,\\\n",
    "                            'xtick.minor.size': 10,\\\n",
    "                            'ytick.direction': 'in',\\\n",
    "                            'ytick.major.size': 10,\\\n",
    "                            'ytick.minor.size': 10,\\\n",
    "                            'xtick.label.size': 30})\n",
    "\n",
    "flatui = [\"#1A91E2\", \"#068C7F\", \"#BF2D19\"]\n",
    "\n",
    "mybox = plt.figure(figsize=(9,6))\n",
    "boxax = mybox.add_subplot(1,1,1)\n",
    "\n",
    "NREP = 1000000\n",
    "\n",
    "Consts_Box = np.zeros((NREP, 3))\n",
    "\n",
    "\n",
    "Labels = []\n",
    "for ii, k in enumerate(sorted(['TWT', 'MPC'])):\n",
    "    v = DATA[k]\n",
    "    NPOP = float(v['POPs'].sum())\n",
    "    C_s = [[v['CSTs'][i]]*np.ceil(NREP*v['POPs'][i]/NPOP)\\\n",
    "           for i in range(len(v['POPs']))]\n",
    "    C_s = [it for subl in C_s for it in subl]\n",
    "    \n",
    "    C_s = C_s[:NREP]\n",
    "    \n",
    "    Consts_Box[:, ii+1] = np.asarray(C_s)\n",
    "    Labels.append(Diz[k])#+'\\n'+r'$%.02f$' % v['AvgC'])\n",
    "\n",
    "# Now count the total for the APS dataset...\n",
    "APS = ['PRA', 'PRB', 'PRD', 'PRE', 'PRL']\n",
    "POPAPS = sum([sum(DATA[k]['POPs']) for k in APS])\n",
    "CSAPS = [[DATA[k]['CSTs'][i]]*np.ceil(NREP*float(DATA[k]['POPs'][i])/float(POPAPS))\\\n",
    "         for k in APS for i in range(len(DATA[k]['POPs']))]\n",
    "CSAPS = [it for subl in CSAPS for it in subl]\n",
    "CSAPS = CSAPS[:NREP]\n",
    "Consts_Box[:, 0] = np.asarray(CSAPS)\n",
    "Labels.insert(0, 'APS')\n",
    "\n",
    "print np.mean(CSAPS)\n",
    "sns.boxplot(Consts_Box, names=Labels, showfliers=False, showmeans=True, meanline=True,\\\n",
    "    alpha=.85, color=sns.color_palette(flatui),\\\n",
    "    meanprops={'color': 'k', 'linestyle':'--', 'alpha': .5, 'lw': 2.5})\n",
    "\n",
    "\n",
    "plt.xticks(size=25)\n",
    "plt.yticks(size=25)\n",
    "plt.ylabel(r'$C$', size=30)\n",
    "\n",
    "\n",
    "ytop = plt.gca().get_ylim()[1]\n",
    "plt.ylim(-.01, ytop+1.)\n",
    "plt.tight_layout()\n",
    "plt.savefig('Pc_BOX_APS_Grouped.pdf', bbox_inches='tight')\n"
   ]
  },
  {
   "cell_type": "code",
   "execution_count": 11,
   "metadata": {
    "collapsed": false
   },
   "outputs": [],
   "source": []
  },
  {
   "cell_type": "code",
   "execution_count": null,
   "metadata": {
    "collapsed": false
   },
   "outputs": [],
   "source": []
  }
 ],
 "metadata": {
  "kernelspec": {
   "display_name": "Python 3",
   "language": "python",
   "name": "python3"
  },
  "language_info": {
   "codemirror_mode": {
    "name": "ipython",
    "version": 3
   },
   "file_extension": ".py",
   "mimetype": "text/x-python",
   "name": "python",
   "nbconvert_exporter": "python",
   "pygments_lexer": "ipython3",
   "version": "3.5.1"
  }
 },
 "nbformat": 4,
 "nbformat_minor": 0
}
